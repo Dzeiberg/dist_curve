{
 "cells": [
  {
   "cell_type": "code",
   "execution_count": null,
   "metadata": {},
   "outputs": [],
   "source": [
    "# default_exp pairwise_distance"
   ]
  },
  {
   "cell_type": "markdown",
   "metadata": {},
   "source": [
    "# Pairwise Distances\n",
    "\n",
    "> Functions to calculate the pairwise distances between vectors"
   ]
  },
  {
   "cell_type": "code",
   "execution_count": null,
   "metadata": {},
   "outputs": [],
   "source": [
    "# export\n",
    "import numpy as np\n",
    "import numba as nb\n",
    "from numba import cuda\n",
    "from scipy.spatial.distance import pdist"
   ]
  },
  {
   "cell_type": "code",
   "execution_count": null,
   "metadata": {},
   "outputs": [],
   "source": [
    "# hide\n",
    "@nb.njit\n",
    "def pairwise_numba(X, is_float_type):\n",
    "    m = X.shape[0]\n",
    "    n = X.shape[1]\n",
    "\n",
    "    D = np.empty((int(m * (m - 1) / 2), 1), dtype=np.float64)  # corrected dtype\n",
    "    ind = 0\n",
    "\n",
    "    for i in range(m):\n",
    "        for j in range(i+1, m):\n",
    "            d = 0.0\n",
    "\n",
    "            for k in range(n):\n",
    "                if is_float_type[k]:\n",
    "                    tmp = X[i, k] - X[j, k]\n",
    "                    d += tmp * tmp\n",
    "                else:\n",
    "                    if X[i, k] != X[j, k]:\n",
    "                        d += 1.\n",
    "\n",
    "            D[ind] = np.sqrt(d)\n",
    "            ind += 1\n",
    "\n",
    "    return D.reshape(1, -1)[0]"
   ]
  },
  {
   "cell_type": "code",
   "execution_count": null,
   "metadata": {},
   "outputs": [],
   "source": [
    "# hide\n",
    "vecs = np.random.randn(3,4)"
   ]
  },
  {
   "cell_type": "code",
   "execution_count": null,
   "metadata": {},
   "outputs": [],
   "source": [
    "# hide\n",
    "dists = pairwise_numba(vecs, np.ones(vecs.shape[1],dtype=bool))"
   ]
  },
  {
   "cell_type": "code",
   "execution_count": null,
   "metadata": {},
   "outputs": [],
   "source": [
    "# export\n",
    "\n",
    "USE_64 = False\n",
    "\n",
    "if USE_64:\n",
    "    bits = 64\n",
    "    np_type = np.float64\n",
    "else:\n",
    "    bits = 32\n",
    "    np_type = np.float32"
   ]
  },
  {
   "cell_type": "code",
   "execution_count": null,
   "metadata": {},
   "outputs": [],
   "source": [
    "# export\n",
    "@cuda.jit(\"void(float{}[:, :], float{}[:, :])\".format(bits, bits))\n",
    "def _euclidian_distance_matrix(mat, out):\n",
    "    \"CUDA kernel used to calculate the squared euclidian distance between all rows in a matrix\"\n",
    "    m = mat.shape[0]\n",
    "    n = mat.shape[1]\n",
    "    i, j = cuda.grid(2)\n",
    "    d = 0\n",
    "    if i < m and j > i and j < m:\n",
    "        # calculate ||x - y||^2\n",
    "        for k in range(n):\n",
    "            tmp = mat[i, k] - mat[j, k]\n",
    "            d += tmp * tmp\n",
    "        out[i, j] = d"
   ]
  },
  {
   "cell_type": "code",
   "execution_count": null,
   "metadata": {},
   "outputs": [],
   "source": [
    "# export\n",
    "def gpu_dist_matrix(mat):\n",
    "    \"calculate the squared euclidian distance between all pairs of rows in a given matrix\"\n",
    "    rows = mat.shape[0]\n",
    "\n",
    "    block_dim = (16, 16)\n",
    "    grid_dim = (int(rows/block_dim[0] + 1), int(rows/block_dim[1] + 1))\n",
    "\n",
    "    stream = cuda.stream()\n",
    "    mat2 = cuda.to_device(np.asarray(mat, dtype=np_type), stream=stream)\n",
    "    out2 = cuda.device_array((rows, rows))\n",
    "    _euclidian_distance_matrix[grid_dim, block_dim](mat2, out2)\n",
    "    out = out2.copy_to_host(stream=stream)\n",
    "\n",
    "    return out"
   ]
  },
  {
   "cell_type": "code",
   "execution_count": null,
   "metadata": {},
   "outputs": [],
   "source": [
    "# hide\n",
    "dists_gpu = gpu_dist_matrix(vecs)"
   ]
  },
  {
   "cell_type": "code",
   "execution_count": null,
   "metadata": {},
   "outputs": [
    {
     "data": {
      "text/plain": [
       "array([9.89992139, 2.31393036, 7.07580765])"
      ]
     },
     "execution_count": null,
     "metadata": {},
     "output_type": "execute_result"
    }
   ],
   "source": [
    "# hide\n",
    "dists**2"
   ]
  },
  {
   "cell_type": "code",
   "execution_count": null,
   "metadata": {},
   "outputs": [
    {
     "data": {
      "text/plain": [
       "array([[0.        , 9.89991954, 2.31392908],\n",
       "       [0.        , 0.        , 7.07580663],\n",
       "       [0.        , 0.        , 0.        ]])"
      ]
     },
     "execution_count": null,
     "metadata": {},
     "output_type": "execute_result"
    }
   ],
   "source": [
    "# hide\n",
    "dists_gpu"
   ]
  },
  {
   "cell_type": "code",
   "execution_count": null,
   "metadata": {},
   "outputs": [
    {
     "data": {
      "text/plain": [
       "True"
      ]
     },
     "execution_count": null,
     "metadata": {},
     "output_type": "execute_result"
    }
   ],
   "source": [
    "# hide\n",
    "np.allclose(dists_gpu[np.where(np.triu(dists_gpu,1) != 0)],dists**2)"
   ]
  },
  {
   "cell_type": "code",
   "execution_count": null,
   "metadata": {},
   "outputs": [],
   "source": [
    "# export\n",
    "\n",
    "@cuda.jit(\"void(float{}[:, :], float{}[:, :], float{}[:, :])\".format(bits, bits, bits))\n",
    "def _pairwise_distance_matrix(compMat, mixMat, out):\n",
    "    \"CUDA kernel used to calcualte squared euclidian distance  between pairs of rows in two matrices\"\n",
    "    nC = compMat.shape[0]\n",
    "    nM = mixMat.shape[0]\n",
    "    dim = compMat.shape[1]\n",
    "    i, j = cuda.grid(2)\n",
    "    d = 0\n",
    "    if i < nC and j < nM:\n",
    "        # calculate ||c_i - m_j||^2\n",
    "        for k in range(dim):\n",
    "            tmp = compMat[i, k] - mixMat[j, k]\n",
    "            d += tmp * tmp\n",
    "        out[i, j] = d"
   ]
  },
  {
   "cell_type": "code",
   "execution_count": null,
   "metadata": {},
   "outputs": [],
   "source": [
    "# export\n",
    "\n",
    "def component_mixture_dist_matrix(compMat, mixMat):\n",
    "    \"calculate the squared euclidian distance between pairs of rows in the two given matrices\"\n",
    "    compRows = compMat.shape[0]\n",
    "    mixRows = mixMat.shape[0]\n",
    "\n",
    "    block_dim = (16, 16)\n",
    "    grid_dim = (int(compRows/block_dim[0] + 1), int(mixRows/block_dim[1] + 1))\n",
    "\n",
    "    stream = cuda.stream()\n",
    "    compMat2 = cuda.to_device(np.asarray(compMat, dtype=np_type), stream=stream)\n",
    "    mixMat2 = cuda.to_device(np.asarray(mixMat, dtype=np_type), stream=stream)\n",
    "    out2 = cuda.device_array((compRows, mixRows))\n",
    "    _pairwise_distance_matrix[grid_dim, block_dim](compMat2, mixMat2, out2)\n",
    "    out = out2.copy_to_host(stream=stream)\n",
    "\n",
    "    return out"
   ]
  },
  {
   "cell_type": "code",
   "execution_count": null,
   "metadata": {},
   "outputs": [],
   "source": [
    "# hide\n",
    "compMat = np.array([[1,2,3],\n",
    "                    [4,5,6],\n",
    "                    [7,8,9]])\n",
    "\n",
    "mixMat = np.array([[11,21,31],\n",
    "                   [41,51,61]])"
   ]
  },
  {
   "cell_type": "code",
   "execution_count": null,
   "metadata": {},
   "outputs": [],
   "source": [
    "# hide\n",
    "puDists = component_mixture_dist_matrix(compMat, mixMat)"
   ]
  },
  {
   "cell_type": "code",
   "execution_count": null,
   "metadata": {},
   "outputs": [
    {
     "data": {
      "text/plain": [
       "array([[1245.00026172, 7365.00106657],\n",
       "       [ 930.00013048, 6510.00106498],\n",
       "       [ 669.00012999, 5709.00106349]])"
      ]
     },
     "execution_count": null,
     "metadata": {},
     "output_type": "execute_result"
    }
   ],
   "source": [
    "# hide\n",
    "puDists"
   ]
  },
  {
   "cell_type": "code",
   "execution_count": null,
   "metadata": {},
   "outputs": [],
   "source": [
    "# hide\n",
    "out = np.zeros((compMat.shape[0], mixMat.shape[0]))\n",
    "for i in range(compMat.shape[0]):\n",
    "    for j in range(mixMat.shape[0]):\n",
    "        out[i,j] = np.linalg.norm(compMat[i] - mixMat[j],ord=2)**2"
   ]
  },
  {
   "cell_type": "code",
   "execution_count": null,
   "metadata": {},
   "outputs": [
    {
     "data": {
      "text/plain": [
       "True"
      ]
     },
     "execution_count": null,
     "metadata": {},
     "output_type": "execute_result"
    }
   ],
   "source": [
    "# hide\n",
    "np.allclose(puDists,out)"
   ]
  },
  {
   "cell_type": "code",
   "execution_count": null,
   "metadata": {},
   "outputs": [],
   "source": []
  }
 ],
 "metadata": {
  "kernelspec": {
   "display_name": "Python 3",
   "language": "python",
   "name": "python3"
  }
 },
 "nbformat": 4,
 "nbformat_minor": 4
}
