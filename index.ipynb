{
 "cells": [
  {
   "cell_type": "code",
   "execution_count": null,
   "metadata": {},
   "outputs": [],
   "source": [
    "#hide\n",
    "from dist_curve.core import *"
   ]
  },
  {
   "cell_type": "markdown",
   "metadata": {},
   "source": [
    "# dist_curve\n",
    "\n",
    "> Fast Nonparametric Estimation of Class Proportions in the Positive Unlabeled Classification Setting"
   ]
  },
  {
   "cell_type": "markdown",
   "metadata": {},
   "source": [
    "## Dependencies\n",
    "\n",
    "Requires CUDA Toolkit to have been set up"
   ]
  },
  {
   "cell_type": "markdown",
   "metadata": {},
   "source": [
    "## Install"
   ]
  },
  {
   "cell_type": "markdown",
   "metadata": {},
   "source": [
    "`git clone https://github.com/Dzeiberg/dist_curve.git`\n",
    "\n",
    "`pip install dist_curve`"
   ]
  },
  {
   "cell_type": "markdown",
   "metadata": {},
   "source": [
    "## Make Curve"
   ]
  },
  {
   "cell_type": "code",
   "execution_count": null,
   "metadata": {},
   "outputs": [],
   "source": [
    "import numpy as np\n",
    "from dist_curve.curve_constructor import makeCurve, plotCurve\n",
    "\n",
    "alpha = 0.3\n",
    "posSize = 100\n",
    "mixSize = 1000\n",
    "dim = 25\n",
    "posInstances = np.random.normal(loc=5,scale=2,size=(posSize, dim))\n",
    "\n",
    "mixInstances = np.concatenate((np.random.normal(loc=1, size=(int(mixSize*(1 - alpha)), dim)),\n",
    "                               np.random.normal(loc=5,scale=2,size=(int(mixSize * alpha), dim))),\n",
    "                              axis=0)\n",
    "\n",
    "curve = makeCurve(posInstances, mixInstances)\n",
    "\n",
    "plotCurve(curve)"
   ]
  },
  {
   "cell_type": "code",
   "execution_count": null,
   "metadata": {},
   "outputs": [],
   "source": []
  }
 ],
 "metadata": {
  "language_info": {
   "name": "python",
   "pygments_lexer": "ipython3"
  }
 },
 "nbformat": 4,
 "nbformat_minor": 2
}
