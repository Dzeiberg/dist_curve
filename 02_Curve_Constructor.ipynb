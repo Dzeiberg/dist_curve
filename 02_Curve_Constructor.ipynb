{
 "cells": [
  {
   "cell_type": "code",
   "execution_count": null,
   "metadata": {},
   "outputs": [],
   "source": [
    "# default_exp curve_constructor"
   ]
  },
  {
   "cell_type": "code",
   "execution_count": null,
   "metadata": {},
   "outputs": [],
   "source": [
    "# hide\n",
    "%load_ext line_profiler"
   ]
  },
  {
   "cell_type": "markdown",
   "metadata": {},
   "source": [
    "# Curve Constructor\n",
    "\n",
    "> Functions to construct distance curves used for class prior estimation"
   ]
  },
  {
   "cell_type": "code",
   "execution_count": null,
   "metadata": {},
   "outputs": [],
   "source": [
    "# export\n",
    "from dist_curve.pairwise_distance import component_mixture_dist_matrix\n",
    "import numpy as np\n",
    "from numba import njit, prange\n",
    "import numba as nb\n",
    "from scipy.spatial.distance import cdist"
   ]
  },
  {
   "cell_type": "code",
   "execution_count": null,
   "metadata": {},
   "outputs": [
    {
     "data": {
      "text/plain": [
       "<weakproxy at 0x7f88a1969650 to Device at 0x7f88a1b0fe50>"
      ]
     },
     "execution_count": null,
     "metadata": {},
     "output_type": "execute_result"
    }
   ],
   "source": [
    "# hide\n",
    "nb.cuda.select_device(1)"
   ]
  },
  {
   "cell_type": "code",
   "execution_count": null,
   "metadata": {},
   "outputs": [],
   "source": [
    "# export\n",
    "@nb.jit((nb.float64[:,:], nb.float64[:,:], nb.boolean[:,:]),nopython=True, parallel=True)\n",
    "def makeCurvesFromDistanceMatrix(dist_matrix,curves, mixtureInstanceRemaining):\n",
    "    \"\"\"Construct multiple distance curves, using the precomputed distances\n",
    "    \n",
    "    Arguments:\n",
    "        - dist_matrix : float[num_component_instances, num_mixture_instances]\n",
    "            dist_matrix[i,j] contains the distance between component instance i and mixture instance j\n",
    "            \n",
    "        - curves : float[num_curves_to_average, num_mixture_instances]\n",
    "            matrix to fill with distance curves (passed initialized matrix because jit\n",
    "            in no python mode can't create matrices)\n",
    "            \n",
    "        - mixtureInstanceRemaining : boolean[num_curves_to_average, num_mixture_instances]\n",
    "            boolean matrix indicating whether the given mixture instance should be\n",
    "            considered when constructing the curve at that iteration.\n",
    "            At each iteration, the mixture point that is closest to the sampled component\n",
    "            instance is removed from consideration in subsequent iterations.\n",
    "            Pass matrix initialized to all True in order for all mixture instances to be\n",
    "            considered in curve construction.\n",
    "    \"\"\"\n",
    "    assert dist_matrix.shape[1] == curves.shape[1], \"dist_matrix and curves should have second dimension of size equal to the number of mixture instances\"\n",
    "    assert curves.shape[1] == mixtureInstanceRemaining.shape[1], \"mixtureInstanceRemaining should have second dimension of size equal to the number of mixture instances\"\n",
    "    assert curves.shape[0] == mixtureInstanceRemaining.shape[0], \"curves and mixtureInstanceRemaining should have first dimension of size equal to the number of curves being constructed\"\n",
    "    n_comp,n_mix = dist_matrix.shape\n",
    "    for curve_num in prange(curves.shape[0]):\n",
    "        componentChoices = np.random.randint(0,n_comp,size=n_mix)\n",
    "        for i in range(n_mix):\n",
    "            # of the remaining mixture instances, get the index (within the list of remaining)\n",
    "            #     of the instance closest to the component instance\n",
    "            choice = componentChoices[i]\n",
    "            remainingIndices = mixtureInstanceRemaining[curve_num]\n",
    "#             subMat = dist_matrix[choice, remainingIndices]\n",
    "            subMat = dist_matrix[choice]\n",
    "            subMat = np.extract(remainingIndices,subMat)\n",
    "            minRemainingIndex = np.argmin(subMat)\n",
    "            # convert index from that in the list of remaining to the true index\n",
    "            minIdx = np.nonzero(mixtureInstanceRemaining[curve_num])[0][minRemainingIndex]\n",
    "            # record min distance and remove that mixture instance\n",
    "            minDist = dist_matrix[choice, minIdx]\n",
    "            curves[curve_num, i] = minDist\n",
    "            mixtureInstanceRemaining[curve_num, minIdx] = False\n",
    "    return curves"
   ]
  },
  {
   "cell_type": "code",
   "execution_count": null,
   "metadata": {},
   "outputs": [],
   "source": [
    "# hide\n",
    "alpha = 0.3\n",
    "posSize = 1000\n",
    "mixSize = 10000\n",
    "dim = 1000\n",
    "posInstances = np.random.normal(loc=5,scale=2,size=(posSize, dim))\n",
    "mixInstances = np.concatenate((np.random.normal(loc=1, size=(int(mixSize*(1 - alpha)), dim)),\n",
    "                               np.random.normal(loc=5,scale=2,size=(int(mixSize * alpha), dim))),\n",
    "                              axis=0)"
   ]
  },
  {
   "cell_type": "code",
   "execution_count": null,
   "metadata": {},
   "outputs": [],
   "source": [
    "# export\n",
    "def makeCurve(compInstances, mixInstances, num_curves_to_average=25, quantiles=np.arange(0,1,.01),gpu=True):\n",
    "    \"\"\"\n",
    "    Construct the distance curve used to estimate the class prior\n",
    "    of the distribution from which the mixture instances were sampled\n",
    "    \n",
    "    Arguments:\n",
    "        - compInstances : float[num_component_instances, dim]\n",
    "            instances sampled from the component distribution\n",
    "\n",
    "        - mixInstances : float[num_mixture_instances, dim] in range[0,1]\n",
    "            instances sampled from the mixture distribution\n",
    "\n",
    "        - num_curves_to_average : int : default 25\n",
    "            repeat the curve construction process this number of times, averaging over all curves\n",
    "\n",
    "        - quantiles : float[n_quantiles] : default np.arange(0,1,.01)\n",
    "            after averaging over all curves, use these quantiles of the averaged curve\n",
    "            as the final distance curve\n",
    "        \n",
    "    \"\"\"\n",
    "    assert compInstances.shape[1] == mixInstances.shape[1], \"compInstances and mixInstances should have same sized second dimension\"\n",
    "    assert num_curves_to_average >= 1, \"num_curves_to_average must be at least 1\"\n",
    "    assert (np.array(quantiles) >= 0).all() and (np.array(quantiles) <= 1).all() and len(quantiles) >= 1, \"quantiles must be a list of floats in the range [0,1]\"\n",
    "    if gpu:\n",
    "        dist_matrix = component_mixture_dist_matrix(compInstances, mixInstances)\n",
    "    else:\n",
    "        dist_matrix = cdist(compInstances,mixInstances,)\n",
    "    n_mix = mixInstances.shape[0]\n",
    "    curve = np.zeros((num_curves_to_average, n_mix))\n",
    "    mixtureInstancesRemaining = np.ones((num_curves_to_average, n_mix),dtype=bool)\n",
    "    curve = makeCurvesFromDistanceMatrix(dist_matrix, curve, mixtureInstancesRemaining)\n",
    "    return np.quantile(np.mean(curve, axis=0),quantiles)"
   ]
  },
  {
   "cell_type": "code",
   "execution_count": null,
   "metadata": {},
   "outputs": [
    {
     "data": {
      "text/plain": [
       "'0.08 GB'"
      ]
     },
     "execution_count": null,
     "metadata": {},
     "output_type": "execute_result"
    }
   ],
   "source": [
    "# hide\n",
    "\"{} GB\".format(posInstances.size * posInstances.itemsize / (1e9))\n",
    "\n",
    "\"{} GB\".format(mixInstances.size * mixInstances.itemsize / (1e9))"
   ]
  },
  {
   "cell_type": "code",
   "execution_count": null,
   "metadata": {},
   "outputs": [],
   "source": [
    "# hide\n",
    "curve = makeCurve(posInstances, mixInstances)"
   ]
  },
  {
   "cell_type": "code",
   "execution_count": null,
   "metadata": {},
   "outputs": [
    {
     "data": {
      "text/plain": [
       "(100,)"
      ]
     },
     "execution_count": null,
     "metadata": {},
     "output_type": "execute_result"
    }
   ],
   "source": [
    "curve.shape"
   ]
  },
  {
   "cell_type": "code",
   "execution_count": null,
   "metadata": {},
   "outputs": [],
   "source": [
    "# export\n",
    "import matplotlib.pyplot as plt\n",
    "def plotCurve(curve):\n",
    "    \"Plot the given distance curve\"\n",
    "    c = (curve - curve.min()) / (curve.max() - curve.min())\n",
    "    plt.plot(c)"
   ]
  },
  {
   "cell_type": "code",
   "execution_count": null,
   "metadata": {},
   "outputs": [
    {
     "data": {
      "image/png": "[encoded data removed]",
      "text/plain": [
       "<Figure size 432x288 with 1 Axes>"
      ]
     },
     "metadata": {
      "needs_background": "light"
     },
     "output_type": "display_data"
    }
   ],
   "source": [
    "# hide\n",
    "plotCurve(curve)"
   ]
  },
  {
   "cell_type": "code",
   "execution_count": null,
   "metadata": {},
   "outputs": [],
   "source": [
    "curve2 = makeCurve(posInstances, mixInstances, gpu=False)"
   ]
  },
  {
   "cell_type": "code",
   "execution_count": null,
   "metadata": {},
   "outputs": [
    {
     "data": {
      "image/png": "[encoded data removed]",
      "text/plain": [
       "<Figure size 432x288 with 1 Axes>"
      ]
     },
     "metadata": {
      "needs_background": "light"
     },
     "output_type": "display_data"
    }
   ],
   "source": [
    "plotCurve(curve2)"
   ]
  },
  {
   "cell_type": "code",
   "execution_count": null,
   "metadata": {},
   "outputs": [],
   "source": []
  }
 ],
 "metadata": {
  "kernelspec": {
   "display_name": "Python 3",
   "language": "python",
   "name": "python3"
  }
 },
 "nbformat": 4,
 "nbformat_minor": 4
}
