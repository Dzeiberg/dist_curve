{
 "cells": [
  {
   "cell_type": "markdown",
   "metadata": {},
   "source": [
    "# Estimator Model"
   ]
  },
  {
   "cell_type": "code",
   "execution_count": null,
   "metadata": {},
   "outputs": [],
   "source": [
    "# default_exp model"
   ]
  },
  {
   "cell_type": "code",
   "execution_count": null,
   "metadata": {},
   "outputs": [],
   "source": [
    "# export\n",
    "\n",
    "import tensorflow as tf\n",
    "from tensorflow.keras.layers import Input, Dense, Dropout, Activation, ReLU, BatchNormalization\n",
    "from tensorflow.keras.models import Model, Sequential"
   ]
  },
  {
   "cell_type": "code",
   "execution_count": null,
   "metadata": {},
   "outputs": [],
   "source": [
    "# export\n",
    "def getEstimatorModel(intermediateDims=[2048,1024,512], drop_prob=.5):\n",
    "    model = Sequential([Input(shape=(100,), name='network_input')])\n",
    "    for i,dim in enumerate(intermediateDims):\n",
    "        model.add(Dense(dim, kernel_initializer=\"uniform\", name='hiddenLayer{}'.format(i)))\n",
    "        model.add(BatchNormalization())\n",
    "        model.add(Activation(\"relu\"))\n",
    "        model.add(Dropout(drop_prob))\n",
    "    model.add(Dense(1))\n",
    "    \n",
    "    model.add(ReLU(max_value=1.0, negative_slope=0.0, threshold=0.0))\n",
    "    return model"
   ]
  },
  {
   "cell_type": "code",
   "execution_count": null,
   "metadata": {},
   "outputs": [],
   "source": [
    "# export\n",
    "def getTrainedEstimator(weights_path=\"/ssdata/ClassPriorEstimation/model.hdf5\"):\n",
    "    model = getEstimatorModel()\n",
    "    model.load_weights(weights_path)\n",
    "    return model"
   ]
  },
  {
   "cell_type": "code",
   "execution_count": null,
   "metadata": {},
   "outputs": [],
   "source": []
  }
 ],
 "metadata": {
  "language_info": {
   "name": "python",
   "pygments_lexer": "ipython3"
  }
 },
 "nbformat": 4,
 "nbformat_minor": 4
}
