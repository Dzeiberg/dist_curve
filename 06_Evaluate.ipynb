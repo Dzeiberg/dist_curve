{
 "cells": [
  {
   "cell_type": "markdown",
   "metadata": {},
   "source": [
    "# Evaluation\n",
    "\n",
    "> Evaluation of DistCurve on several datsets"
   ]
  },
  {
   "cell_type": "code",
   "execution_count": null,
   "metadata": {},
   "outputs": [],
   "source": [
    "from easydict import EasyDict\n",
    "from dist_curve.curve_constructor import makeCurve\n",
    "from dist_curve.model import getTrainedEstimator\n",
    "import pickle\n",
    "model = getTrainedEstimator(weights_path=\"/data/dzeiberg/ClassPriorEstimation/model.hdf5\")"
   ]
  },
  {
   "cell_type": "code",
   "execution_count": null,
   "metadata": {},
   "outputs": [],
   "source": [
    "from glob import glob\n",
    "from tqdm.notebook import tqdm\n",
    "import numpy as np\n",
    "import matplotlib.pyplot as plt"
   ]
  },
  {
   "cell_type": "code",
   "execution_count": null,
   "metadata": {},
   "outputs": [],
   "source": [
    "def getDSAbsErrs(ds):\n",
    "    absErrs = []\n",
    "    for inst in ds.instances:\n",
    "        curve = makeCurve(ds.instances[0].posScores.reshape((-1,1)),\n",
    "                          ds.instances[0].unlabeledScores.reshape((-1,1))).reshape((1,-1))\n",
    "        alphaHat = model.predict(curve/curve.sum())\n",
    "        absErrs.append(np.abs(inst.alpha - alphaHat))\n",
    "    return absErrs"
   ]
  },
  {
   "cell_type": "code",
   "execution_count": null,
   "metadata": {},
   "outputs": [],
   "source": [
    "files = glob(\"/data/dzeiberg/ClassPriorEstimation/processedDatasets_partial/*.pkl\")\n",
    "absErrs= []\n",
    "for file in tqdm(files,total=len(files)):\n",
    "    name = file.split(\"/\")[-1].replace(\".pkl\",\"\")\n",
    "    ds = EasyDict(pickle.load(open(file,\"rb\")))\n",
    "    aes = getDSAbsErrs(ds)\n",
    "    absErrs.append(aes)\n",
    "    print(name, \"{:.3f}\".format(np.mean(aes)))"
   ]
  },
  {
   "cell_type": "code",
   "execution_count": null,
   "metadata": {},
   "outputs": [],
   "source": [
    "print(\"Overall MAE: {:.3f}\".format(np.mean(absErrs)))"
   ]
  },
  {
   "cell_type": "code",
   "execution_count": null,
   "metadata": {},
   "outputs": [],
   "source": []
  }
 ],
 "metadata": {
  "language_info": {
   "name": "python",
   "pygments_lexer": "ipython3"
  }
 },
 "nbformat": 4,
 "nbformat_minor": 4
}
