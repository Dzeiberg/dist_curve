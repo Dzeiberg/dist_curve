{
 "cells": [
  {
   "cell_type": "markdown",
   "metadata": {},
   "source": [
    "# Evaluation\n",
    "\n",
    "> Evaluation of DistCurve on several datsets"
   ]
  },
  {
   "cell_type": "code",
   "execution_count": null,
   "metadata": {},
   "outputs": [],
   "source": [
    "from easydict import EasyDict\n",
    "from dist_curve.curve_constructor import makeCurve\n",
    "from dist_curve.model import getTrainedEstimator\n",
    "import pickle\n",
    "# model = getTrainedEstimator(weights_path=\"/data/dzeiberg/ClassPriorEstimation/model.hdf5\")\n",
    "model = getTrainedEstimator(weights_path=\"/home/dz/research/ClassPriorEstimation/model.hdf5\")"
   ]
  },
  {
   "cell_type": "code",
   "execution_count": null,
   "metadata": {},
   "outputs": [],
   "source": [
    "from glob import glob\n",
    "from tqdm.notebook import tqdm\n",
    "import numpy as np\n",
    "import matplotlib.pyplot as plt"
   ]
  },
  {
   "cell_type": "code",
   "execution_count": null,
   "metadata": {},
   "outputs": [],
   "source": [
    "def getDSAbsErrs(ds):\n",
    "    absErrs = []\n",
    "    for inst in ds.instances:\n",
    "        curve = makeCurve(ds.instances[0].posScores.reshape((-1,1)),\n",
    "                          ds.instances[0].unlabeledScores.reshape((-1,1))).reshape((1,-1))\n",
    "        alphaHat = model.predict(curve/curve.sum())\n",
    "        absErrs.append(np.abs(inst.alpha - alphaHat))\n",
    "    return absErrs"
   ]
  },
  {
   "cell_type": "code",
   "execution_count": null,
   "metadata": {},
   "outputs": [
    {
     "name": "stdout",
     "output_type": "stream",
     "text": [
      "Model: \"sequential_2\"\n",
      "_________________________________________________________________\n",
      "Layer (type)                 Output Shape              Param #   \n",
      "=================================================================\n",
      "hiddenLayer0 (Dense)         (None, 2048)              206848    \n",
      "_________________________________________________________________\n",
      "batch_normalization_6 (Batch (None, 2048)              8192      \n",
      "_________________________________________________________________\n",
      "activation_6 (Activation)    (None, 2048)              0         \n",
      "_________________________________________________________________\n",
      "dropout_6 (Dropout)          (None, 2048)              0         \n",
      "_________________________________________________________________\n",
      "hiddenLayer1 (Dense)         (None, 1024)              2098176   \n",
      "_________________________________________________________________\n",
      "batch_normalization_7 (Batch (None, 1024)              4096      \n",
      "_________________________________________________________________\n",
      "activation_7 (Activation)    (None, 1024)              0         \n",
      "_________________________________________________________________\n",
      "dropout_7 (Dropout)          (None, 1024)              0         \n",
      "_________________________________________________________________\n",
      "hiddenLayer2 (Dense)         (None, 512)               524800    \n",
      "_________________________________________________________________\n",
      "batch_normalization_8 (Batch (None, 512)               2048      \n",
      "_________________________________________________________________\n",
      "activation_8 (Activation)    (None, 512)               0         \n",
      "_________________________________________________________________\n",
      "dropout_8 (Dropout)          (None, 512)               0         \n",
      "_________________________________________________________________\n",
      "dense_2 (Dense)              (None, 1)                 513       \n",
      "_________________________________________________________________\n",
      "re_lu_2 (ReLU)               (None, 1)                 0         \n",
      "=================================================================\n",
      "Total params: 2,844,673\n",
      "Trainable params: 2,837,505\n",
      "Non-trainable params: 7,168\n",
      "_________________________________________________________________\n"
     ]
    }
   ],
   "source": [
    "model.summary()"
   ]
  },
  {
   "cell_type": "code",
   "execution_count": null,
   "metadata": {},
   "outputs": [
    {
     "data": {
      "application/vnd.jupyter.widget-view+json": {
       "model_id": "7bafde69ff1a46a291d7213331555d5c",
       "version_major": 2,
       "version_minor": 0
      },
      "text/plain": [
       "HBox(children=(FloatProgress(value=1.0, bar_style='info', max=1.0), HTML(value='')))"
      ]
     },
     "metadata": {},
     "output_type": "display_data"
    },
    {
     "name": "stdout",
     "output_type": "stream",
     "text": [
      "\n"
     ]
    }
   ],
   "source": [
    "files = glob(\"/data/dzeiberg/ClassPriorEstimation/processedDatasets_partial/*.pkl\")\n",
    "absErrs= []\n",
    "for file in tqdm(files,total=len(files)):\n",
    "    name = file.split(\"/\")[-1].replace(\".pkl\",\"\")\n",
    "    ds = EasyDict(pickle.load(open(file,\"rb\")))\n",
    "    aes = getDSAbsErrs(ds)\n",
    "    absErrs.append(aes)\n",
    "    print(name, \"{:.3f}\".format(np.mean(aes)))"
   ]
  },
  {
   "cell_type": "code",
   "execution_count": null,
   "metadata": {},
   "outputs": [],
   "source": [
    "print(\"Overall MAE: {:.3f}\".format(np.mean(absErrs)))"
   ]
  },
  {
   "cell_type": "code",
   "execution_count": null,
   "metadata": {},
   "outputs": [],
   "source": []
  }
 ],
 "metadata": {
  "kernelspec": {
   "display_name": "Python 3",
   "language": "python",
   "name": "python3"
  }
 },
 "nbformat": 4,
 "nbformat_minor": 4
}
