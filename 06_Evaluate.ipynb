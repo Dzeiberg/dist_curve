{
 "cells": [
  {
   "cell_type": "code",
   "execution_count": null,
   "metadata": {},
   "outputs": [],
   "source": [
    "from easydict import EasyDict\n",
    "from dist_curve.curve_constructor import makeCurve\n",
    "from dist_curve.model import getTrainedEstimator\n",
    "import pickle\n",
    "model = getTrainedEstimator(weights_path=\"/data/dzeiberg/ClassPriorEstimation/model.hdf5\")"
   ]
  },
  {
   "cell_type": "code",
   "execution_count": null,
   "metadata": {},
   "outputs": [],
   "source": [
    "from glob import glob\n",
    "from tqdm.notebook import tqdm\n",
    "import numpy as np\n",
    "import matplotlib.pyplot as plt"
   ]
  },
  {
   "cell_type": "code",
   "execution_count": null,
   "metadata": {},
   "outputs": [],
   "source": [
    "def getDSAbsErrs(ds):\n",
    "    absErrs = []\n",
    "    for inst in ds.instances:\n",
    "        curve = makeCurve(ds.instances[0].posScores.reshape((-1,1)),\n",
    "                          ds.instances[0].unlabeledScores.reshape((-1,1))).reshape((1,-1))\n",
    "        alphaHat = model.predict(curve/curve.sum())\n",
    "        absErrs.append(np.abs(inst.alpha - alphaHat))\n",
    "    return np.mean(absErrs)"
   ]
  },
  {
   "cell_type": "code",
   "execution_count": null,
   "metadata": {},
   "outputs": [],
   "source": [
    "files = glob(\"/data/dzeiberg/ClassPriorEstimation/processedDatasets_partial/*.pkl\")\n",
    "for file in tqdm(files,total=len(files)):\n",
    "    name = file.split(\"/\")[-1].replace(\".pkl\",\"\")\n",
    "    ds = EasyDict(pickle.load(open(file,\"rb\")))\n",
    "    print(name, getDSAbsErrs(ds))"
   ]
  },
  {
   "cell_type": "code",
   "execution_count": null,
   "metadata": {},
   "outputs": [],
   "source": []
  }
 ],
 "metadata": {
  "language_info": {
   "name": "python",
   "pygments_lexer": "ipython3"
  }
 },
 "nbformat": 4,
 "nbformat_minor": 4
}
