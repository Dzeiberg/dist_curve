{
 "cells": [
  {
   "cell_type": "code",
   "execution_count": null,
   "metadata": {},
   "outputs": [],
   "source": [
    "from glob import glob\n",
    "\n",
    "import scipy.stats as ss\n",
    "import matplotlib.pyplot as plt\n",
    "import numpy as np\n",
    "from easydict import EasyDict\n",
    "from tqdm.notebook import tqdm\n",
    "\n",
    "from dist_curve.curve_constructor import makeCurve"
   ]
  },
  {
   "cell_type": "code",
   "execution_count": null,
   "metadata": {},
   "outputs": [],
   "source": [
    "makeCurve??"
   ]
  },
  {
   "cell_type": "code",
   "execution_count": null,
   "metadata": {},
   "outputs": [],
   "source": [
    "def getUnlabeled(aNeg,bNeg,aPos,bPos,alpha,size_mixture):\n",
    "    unlabeledDataset = []\n",
    "    componentAssignment = []\n",
    "    for s in range(int(size_mixture)):\n",
    "        distributionAssignment = np.random.binomial(1, alpha)\n",
    "        if not distributionAssignment:\n",
    "            sample = np.random.beta(aNeg,bNeg)\n",
    "        else:\n",
    "            sample = np.random.beta(aPos,bPos)\n",
    "        unlabeledDataset.append(sample)\n",
    "        componentAssignment.append(distributionAssignment)\n",
    "    return np.array(unlabeledDataset).reshape((-1,1)), np.array(componentAssignment).reshape((-1,1))"
   ]
  },
  {
   "cell_type": "code",
   "execution_count": null,
   "metadata": {},
   "outputs": [],
   "source": [
    "def sampleData(file):\n",
    "    with open(file) as f:\n",
    "        aNeg,bNeg,aPos,bPos = [float(i) for i in f.read().split(\",\")]\n",
    "    MIXTURE_SIZE_LOW, MIXTURE_SIZE_HIGH = 1000, 10000\n",
    "    # Parameters of prior uniform distribution from which\n",
    "    # positive sample size is drawn\n",
    "    POSITIVE_SIZE_LOW, POSITIVE_SIZE_HIGH = 100, 5000\n",
    "    # range of possible alphas\n",
    "    ALPHA_LOW, ALPHA_HIGH = 0.01, 1\n",
    "    size_mixture = np.random.randint(MIXTURE_SIZE_LOW, MIXTURE_SIZE_HIGH)\n",
    "    size_positive = np.random.randint(POSITIVE_SIZE_LOW, POSITIVE_SIZE_HIGH)\n",
    "    data = EasyDict()\n",
    "    data.alpha = np.random.uniform(ALPHA_LOW, ALPHA_HIGH)\n",
    "    data.unlabeled, data.hiddenMixtureLabels = getUnlabeled(aNeg,bNeg,\n",
    "                                                            aPos,bPos,\n",
    "                                                            data.alpha,\n",
    "                                                            size_mixture)\n",
    "    data.positive = np.random.beta(aPos,bPos,size=size_positive).reshape((-1,1))\n",
    "    data.aNeg = aNeg\n",
    "    data.bNeg = bNeg\n",
    "    data.aPos = aPos\n",
    "    data.bPos = bPos\n",
    "    return data"
   ]
  },
  {
   "cell_type": "code",
   "execution_count": null,
   "metadata": {},
   "outputs": [],
   "source": [
    "paramFiles = glob(\"/ssdata/ClassPriorEstimationPrivate/trainParamGroups/*/param*.csv\")\n",
    "np.random.shuffle(paramFiles)"
   ]
  },
  {
   "cell_type": "code",
   "execution_count": null,
   "metadata": {},
   "outputs": [],
   "source": [
    "def minmax(c):\n",
    "    minC = np.min(c)\n",
    "    maxC = np.max(c)\n",
    "    return (c - minC) / (maxC - minC)"
   ]
  },
  {
   "cell_type": "code",
   "execution_count": null,
   "metadata": {},
   "outputs": [],
   "source": [
    "NRepsPerSet = 2\n",
    "quantiles = np.arange(0,1,.001)\n",
    "curves = np.zeros((len(paramFiles) * NRepsPerSet,\n",
    "                  len(quantiles)))\n",
    "data = []\n",
    "for fn, file in tqdm(enumerate(paramFiles),total=len(paramFiles)):\n",
    "    for rep in tqdm(range(NRepsPerSet),leave=False):\n",
    "        d = sampleData(file)\n",
    "#         print(d.positive.shape, d.unlabeled.shape)\n",
    "        curve = makeCurve(d.positive, d.unlabeled,\n",
    "                          num_curves_to_average=25,\n",
    "                          quantiles=quantiles)\n",
    "        curves[fn * NRepsPerSet + rep] = minmax(curve)\n",
    "        data.append(d)"
   ]
  },
  {
   "cell_type": "code",
   "execution_count": null,
   "metadata": {},
   "outputs": [],
   "source": [
    "r = np.random.choice(np.arange(fn * NRepsPerSet + rep))\n",
    "\n",
    "plt.plot(curves[r])\n",
    "plt.vlines(data[r].alpha * 1000,0,1)\n",
    "plt.show()\n",
    "\n",
    "# plt.plot(np.arange(0,1,.01), ss.beta.pdf(np.arange(0,1,.01),a=data[r].aNeg, b=data[r].bNeg))\n",
    "plt.plot(np.arange(0,1,.01), ss.beta.pdf(np.arange(0,1,.01),a=data[r].aPos, b=data[r].bPos))\n",
    "plt.plot(np.arange(0,1,.01),\n",
    "         data[r].alpha * ss.beta.pdf(np.arange(0,1,.01),\n",
    "                                     a=data[r].aNeg,\n",
    "                                     b=data[r].bNeg) + (1 - data[r].alpha) * ss.beta.pdf(np.arange(0,1,.01),\n",
    "                                                                                         a=data[r].aPos,\n",
    "                                                                                         b=data[r].bPos))"
   ]
  },
  {
   "cell_type": "code",
   "execution_count": null,
   "metadata": {},
   "outputs": [],
   "source": []
  },
  {
   "cell_type": "code",
   "execution_count": null,
   "metadata": {},
   "outputs": [],
   "source": []
  },
  {
   "cell_type": "code",
   "execution_count": null,
   "metadata": {},
   "outputs": [],
   "source": []
  }
 ],
 "metadata": {
  "language_info": {
   "name": "python",
   "pygments_lexer": "ipython3"
  }
 },
 "nbformat": 4,
 "nbformat_minor": 4
}
